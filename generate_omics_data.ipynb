{
 "cells": [
  {
   "cell_type": "markdown",
   "metadata": {},
   "source": [
    "## Imports"
   ]
  },
  {
   "cell_type": "code",
   "execution_count": 7,
   "metadata": {},
   "outputs": [],
   "source": [
    "import omg\n",
    "import os"
   ]
  },
  {
   "cell_type": "markdown",
   "metadata": {},
   "source": [
    "## User parameters passed to the program"
   ]
  },
  {
   "cell_type": "code",
   "execution_count": 8,
   "metadata": {},
   "outputs": [],
   "source": [
    "user_params = {\n",
    "    'host': 'ecoli', # ecoli or ropacus\n",
    "    'modelfile': 'iJO1366_MVA.json',\n",
    "    'timestart': 0.0,\n",
    "    'timestop': 8.0,\n",
    "    'numpoints': 9,\n",
    "    'trainingfile': 'training_data_8genes.csv',\n",
    "    'numreactions': 3,\n",
    "    'numinstances': 5\n",
    "}"
   ]
  },
  {
   "cell_type": "markdown",
   "metadata": {},
   "source": [
    "## Instructions\n",
    "1. git clone -b omgforallhosts --single-branch https://github.com/JBEI/OMG.git\n",
    "2. open generate_omics_data.ipynb in jupyterhub\n",
    "3. Add kernel info and the server info\n",
    "3. There are two files that are absolutely necessary for the program to run and are present in the sample_files directory:\n",
    "   - A modified E coli model with the isopentenol pathway added to it (iJO1366_MVA.json)\n",
    "   - A training set of 95 strains containing the details of which reactions we are either:\n",
    "       - (0) eliminating \n",
    "       - (1) including\n",
    "       - (2) doubling the flux of the reaction\n",
    "4. Before running the OMG code in the notebook, you need to copy these files in to the 'data' folder\n",
    "5. Run the cells below"
   ]
  },
  {
   "cell_type": "markdown",
   "metadata": {},
   "source": [
    "## Set the global variables in the OMG code form the user params"
   ]
  },
  {
   "cell_type": "code",
   "execution_count": 9,
   "metadata": {},
   "outputs": [],
   "source": [
    "omg.HOST_NAME = user_params['host']\n",
    "omg.MODEL_FILENAME = user_params['modelfile']\n",
    "omg.TIMESTART = user_params['timestart']\n",
    "omg.TIMESTOP = user_params['timestop']\n",
    "omg.NUMPOINTS = user_params['numpoints']\n",
    "omg.TRAINING_FILE_NAME = user_params['trainingfile']\n",
    "omg.NUM_REACTIONS = user_params['numreactions']\n",
    "omg.NUM_INSTANCES = user_params['numinstances']"
   ]
  },
  {
   "cell_type": "markdown",
   "metadata": {},
   "source": [
    "## Creating the data folder and the output folder within it"
   ]
  },
  {
   "cell_type": "code",
   "execution_count": 10,
   "metadata": {},
   "outputs": [],
   "source": [
    "# if data folder doesn't exist create it\n",
    "if not os.path.isdir(omg.DATA_FILE_PATH):\n",
    "    os.mkdir(omg.DATA_FILE_PATH)\n",
    "if not os.path.isdir(omg.OUTPUT_FILE_PATH):\n",
    "    os.mkdir(omg.OUTPUT_FILE_PATH)\n",
    "\n",
    "# creating the file path to the model file\n",
    "filename = os.path.join(omg.DATA_FILE_PATH, omg.MODEL_FILENAME)"
   ]
  },
  {
   "cell_type": "markdown",
   "metadata": {},
   "source": [
    "## Run OMG code to genarate synthetic data"
   ]
  },
  {
   "cell_type": "code",
   "execution_count": 11,
   "metadata": {},
   "outputs": [
    {
     "name": "stdout",
     "output_type": "stream",
     "text": [
      "Displaying the reaction bounds after constraining them:\n",
      "(-10.0, 1000.0)\n",
      "Displaying the reaction bounds after constraining them:\n",
      "(-1000.0, 1000.0)\n",
      "Displaying the reaction bounds after constraining them:\n",
      "(-200.0, 1000.0)\n",
      "Displaying the reaction bounds after constraining them:\n",
      "(-1000.0, 1000.0)\n",
      "Displaying the reaction bounds after constraining them:\n",
      "(-1000.0, 1000.0)\n",
      "Displaying the reaction bounds after constraining them:\n",
      "(-1000.0, 1000.0)\n",
      "Displaying the reaction bounds after constraining them:\n",
      "(-1000.0, 1000.0)\n",
      "Displaying the reaction bounds after constraining them:\n",
      "(-200.0, 1000.0)\n",
      "Displaying the reaction bounds after constraining them:\n",
      "(-10.0, 1000.0)\n",
      "Displaying the reaction bounds after constraining them:\n",
      "(-839.5219917958988, 1000.0)\n",
      "Displaying the reaction bounds after constraining them:\n",
      "(-76.73388401633038, 1000.0)\n",
      "Displaying the reaction bounds after constraining them:\n",
      "(-1000.0, 1000.0)\n",
      "Displaying the reaction bounds after constraining them:\n",
      "(-710.6633672620774, 1000.0)\n",
      "Displaying the reaction bounds after constraining them:\n",
      "(-1000.0, 1000.0)\n",
      "Displaying the reaction bounds after constraining them:\n",
      "(-1000.0, 1000.0)\n",
      "Displaying the reaction bounds after constraining them:\n",
      "(-76.58379245877128, 1000.0)\n",
      "Displaying the reaction bounds after constraining them:\n",
      "(-10.0, 1000.0)\n",
      "Displaying the reaction bounds after constraining them:\n",
      "(-322.00105979366776, 1000.0)\n",
      "Displaying the reaction bounds after constraining them:\n",
      "(-29.437149609232545, 1000.0)\n",
      "Displaying the reaction bounds after constraining them:\n",
      "(-1000.0, 1000.0)\n",
      "Displaying the reaction bounds after constraining them:\n",
      "(-266.0222101813896, 1000.0)\n",
      "Displaying the reaction bounds after constraining them:\n",
      "(-401.1775203276678, 1000.0)\n",
      "Displaying the reaction bounds after constraining them:\n",
      "(-1000.0, 1000.0)\n",
      "Displaying the reaction bounds after constraining them:\n",
      "(-29.229468498551146, 1000.0)\n",
      "Displaying the reaction bounds after constraining them:\n",
      "(-10.0, 1000.0)\n",
      "Displaying the reaction bounds after constraining them:\n",
      "(-123.430269469859, 1000.0)\n",
      "Displaying the reaction bounds after constraining them:\n",
      "(-11.289574602716273, 1000.0)\n",
      "Displaying the reaction bounds after constraining them:\n",
      "(-585.7888333101939, 1000.0)\n",
      "Displaying the reaction bounds after constraining them:\n",
      "(-95.41510907262843, 1000.0)\n",
      "Displaying the reaction bounds after constraining them:\n",
      "(-153.92706306182794, 1000.0)\n",
      "Displaying the reaction bounds after constraining them:\n",
      "(-391.42715616882214, 1000.0)\n",
      "Displaying the reaction bounds after constraining them:\n",
      "(-11.059796602091414, 1000.0)\n",
      "Displaying the reaction bounds after constraining them:\n",
      "(-10.0, 1000.0)\n",
      "Displaying the reaction bounds after constraining them:\n",
      "(-47.23942127117769, 1000.0)\n",
      "Displaying the reaction bounds after constraining them:\n",
      "(-4.326419899847166, 1000.0)\n",
      "Displaying the reaction bounds after constraining them:\n",
      "(-224.76492137861078, 1000.0)\n",
      "Displaying the reaction bounds after constraining them:\n",
      "(-29.95382082878473, 1000.0)\n",
      "Displaying the reaction bounds after constraining them:\n",
      "(-59.05801396413983, 1000.0)\n",
      "Displaying the reaction bounds after constraining them:\n",
      "(-149.59458791551376, 1000.0)\n",
      "Displaying the reaction bounds after constraining them:\n",
      "(-4.088163407574066, 1000.0)\n",
      "Displaying the reaction bounds after constraining them:\n",
      "(-8.112344556010395, 1000.0)\n",
      "Displaying the reaction bounds after constraining them:\n",
      "(-18.00528597983794, 1000.0)\n",
      "Displaying the reaction bounds after constraining them:\n",
      "(-1.6546842327578568, 1000.0)\n",
      "Displaying the reaction bounds after constraining them:\n",
      "(-86.24143549623022, 1000.0)\n",
      "Displaying the reaction bounds after constraining them:\n",
      "(-4.836576407570432, 1000.0)\n",
      "Displaying the reaction bounds after constraining them:\n",
      "(-22.657124856692295, 1000.0)\n",
      "Displaying the reaction bounds after constraining them:\n",
      "(-56.804361985311665, 1000.0)\n",
      "Displaying the reaction bounds after constraining them:\n",
      "(-1.4131745758623482, 1000.0)\n",
      "Displaying the reaction bounds after constraining them:\n",
      "(-0.540124539348402, 1000.0)\n",
      "Displaying the reaction bounds after constraining them:\n",
      "(-11.435539261593966, 1000.0)\n",
      "Displaying the reaction bounds after constraining them:\n",
      "(-1.0542687781548568, 1000.0)\n",
      "Displaying the reaction bounds after constraining them:\n",
      "(-55.111244447101434, 1000.0)\n",
      "Displaying the reaction bounds after constraining them:\n",
      "(-0.0, 1000.0)\n",
      "Displaying the reaction bounds after constraining them:\n",
      "(-14.476803483353784, 1000.0)\n",
      "Displaying the reaction bounds after constraining them:\n",
      "(-35.95174307885639, 1000.0)\n",
      "Displaying the reaction bounds after constraining them:\n",
      "(-0.8120280420812237, 1000.0)\n",
      "Displaying the reaction bounds after constraining them:\n",
      "(-0.540124539348402, 1000.0)\n",
      "Displaying the reaction bounds after constraining them:\n",
      "(-11.435539261593966, 1000.0)\n",
      "Displaying the reaction bounds after constraining them:\n",
      "(-1.0542687781548568, 1000.0)\n",
      "Displaying the reaction bounds after constraining them:\n",
      "(-55.111244447101434, 1000.0)\n",
      "Displaying the reaction bounds after constraining them:\n",
      "(-0.0, 1000.0)\n",
      "Displaying the reaction bounds after constraining them:\n",
      "(-14.476803483353784, 1000.0)\n",
      "Displaying the reaction bounds after constraining them:\n",
      "(-35.95174307885639, 1000.0)\n",
      "Displaying the reaction bounds after constraining them:\n",
      "(-0.8120280420812237, 1000.0)\n",
      "Displaying the reaction bounds after constraining them:\n",
      "(-0.540124539348402, 1000.0)\n",
      "Displaying the reaction bounds after constraining them:\n",
      "(-11.435539261593966, 1000.0)\n",
      "Displaying the reaction bounds after constraining them:\n",
      "(-1.0542687781548568, 1000.0)\n",
      "Displaying the reaction bounds after constraining them:\n",
      "(-55.111244447101434, 1000.0)\n",
      "Displaying the reaction bounds after constraining them:\n",
      "(-0.0, 1000.0)\n",
      "Displaying the reaction bounds after constraining them:\n",
      "(-14.476803483353784, 1000.0)\n",
      "Displaying the reaction bounds after constraining them:\n",
      "(-35.95174307885639, 1000.0)\n",
      "Displaying the reaction bounds after constraining them:\n",
      "(-0.8120280420812237, 1000.0)\n"
     ]
    }
   ],
   "source": [
    "omg.generate_data_for_host(filename)"
   ]
  },
  {
   "cell_type": "code",
   "execution_count": null,
   "metadata": {},
   "outputs": [],
   "source": []
  }
 ],
 "metadata": {
  "kernelspec": {
   "display_name": "biodesign_3.7",
   "language": "python",
   "name": "biod_3.7"
  },
  "language_info": {
   "codemirror_mode": {
    "name": "ipython",
    "version": 3
   },
   "file_extension": ".py",
   "mimetype": "text/x-python",
   "name": "python",
   "nbconvert_exporter": "python",
   "pygments_lexer": "ipython3",
   "version": "3.7.4"
  }
 },
 "nbformat": 4,
 "nbformat_minor": 4
}
