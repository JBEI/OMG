{
 "cells": [
  {
   "cell_type": "markdown",
   "metadata": {},
   "source": [
    "## Imports"
   ]
  },
  {
   "cell_type": "code",
   "execution_count": 2,
   "metadata": {},
   "outputs": [],
   "source": [
    "import omg\n",
    "import os"
   ]
  },
  {
   "cell_type": "markdown",
   "metadata": {},
   "source": [
    "## User parameters passed to the program"
   ]
  },
  {
   "cell_type": "code",
   "execution_count": 3,
   "metadata": {},
   "outputs": [],
   "source": [
    "user_params = {\n",
    "    'host': 'ecoli', # ecoli or ropacus\n",
    "    'modelfile': 'iJO1366_MVA.json',\n",
    "    'timestart': 0.0,\n",
    "    'timestop': 8.0,\n",
    "    'numpoints': 9,\n",
    "    'trainingfile': 'training_data_8genes.csv',\n",
    "    'numreactions': 8,\n",
    "    'numinstances': 5\n",
    "}"
   ]
  },
  {
   "cell_type": "markdown",
   "metadata": {},
   "source": [
    "## Instructions\n",
    "1. git clone -b omgforallhosts --single-branch https://github.com/JBEI/OMG.git\n",
    "2. open generate_omics_data.ipynb in jupyterhub\n",
    "3. Add kernel info and the server info\n",
    "3. There are two files that are absolutely necessary for the program to run and are present in the sample_files directory:\n",
    "   - A modified E coli model with the isopentenol pathway added to it (iJO1366_MVA.json)\n",
    "   - A training set of 95 strains containing the details of which reactions we are either:\n",
    "       - (0) eliminating \n",
    "       - (1) including\n",
    "       - (2) doubling the flux of the reaction\n",
    "4. Before running the OMG code in the notebook, you need to copy these files in to the 'data' folder\n",
    "5. Run the cells below"
   ]
  },
  {
   "cell_type": "markdown",
   "metadata": {},
   "source": [
    "## Set the global variables in the OMG code form the user params"
   ]
  },
  {
   "cell_type": "code",
   "execution_count": 4,
   "metadata": {},
   "outputs": [],
   "source": [
    "omg.HOST_NAME = user_params['host']\n",
    "omg.MODEL_FILENAME = user_params['modelfile']\n",
    "omg.TIMESTART = user_params['timestart']\n",
    "omg.TIMESTOP = user_params['timestop']\n",
    "omg.NUMPOINTS = user_params['numpoints']\n",
    "omg.TRAINING_FILE_NAME = user_params['trainingfile']\n",
    "omg.NUM_REACTIONS = user_params['numreactions']\n",
    "omg.NUM_INSTANCES = user_params['numinstances']"
   ]
  },
  {
   "cell_type": "markdown",
   "metadata": {},
   "source": [
    "## Creating the data folder and the output folder within it"
   ]
  },
  {
   "cell_type": "code",
   "execution_count": 5,
   "metadata": {},
   "outputs": [],
   "source": [
    "# if data folder doesn't exist create it\n",
    "if not os.path.isdir(omg.DATA_FILE_PATH):\n",
    "    os.mkdir(omg.DATA_FILE_PATH)\n",
    "if not os.path.isdir(omg.OUTPUT_FILE_PATH):\n",
    "    os.mkdir(omg.OUTPUT_FILE_PATH)\n",
    "\n",
    "# creating the file path to the model file\n",
    "filename = os.path.join(omg.DATA_FILE_PATH, omg.MODEL_FILENAME)"
   ]
  },
  {
   "cell_type": "markdown",
   "metadata": {},
   "source": [
    "## Run OMG code to genarate synthetic data"
   ]
  },
  {
   "cell_type": "code",
   "execution_count": 6,
   "metadata": {},
   "outputs": [
    {
     "name": "stderr",
     "output_type": "stream",
     "text": [
      "/scratch/somtirtharoy/OMG/omg.py:251 \u001b[1;31mRuntimeWarning\u001b[0m: invalid value encountered in double_scalars\n"
     ]
    },
    {
     "name": "stdout",
     "output_type": "stream",
     "text": [
      "Before generate_isopentenol_and_solution_for_biomass_using_moma\n",
      "Inside generate_isopentenol_and_solution_for_biomass_using_moma\n",
      "optimal 0.9579043097673934 0.2\n",
      "4.533368718167996 0.0\n",
      "0 0.0 optimal 0.0\n",
      "4.533368718167996 0.0\n",
      "0 1.0 optimal 0.0\n",
      "4.533368718167996 0.0\n",
      "0 2.0 optimal 0.0\n",
      "4.533368718167996 0.0\n",
      "0 3.0 optimal 0.0\n",
      "4.533368718167996 0.0\n",
      "0 4.0 optimal 0.0\n",
      "4.533368718167996 0.0\n",
      "0 5.0 optimal 0.0\n",
      "4.533368718167996 0.0\n",
      "0 6.0 optimal 0.0\n",
      "4.533368718167996 0.0\n",
      "0 7.0 optimal 0.0\n",
      "4.533368718167996 0.0\n",
      "0 8.0 optimal 0.0\n",
      "0.0    0.0\n",
      "1.0    0.0\n",
      "2.0    0.0\n",
      "3.0    0.0\n",
      "4.0    0.0\n",
      "5.0    0.0\n",
      "6.0    0.0\n",
      "7.0    0.0\n",
      "8.0    0.0\n",
      "9.0    0.0\n",
      "dtype: float64\n",
      "0 0.26958365155595804 0.0\n",
      "4.533368718167996 2.0\n",
      "1 0.0 optimal 0.6441277080895714\n",
      "4.533368718167996 2.0\n",
      "1 1.0 optimal 0.6412433667486822\n",
      "4.533368718167996 2.0\n",
      "1 2.0 optimal 0.6412433667487026\n",
      "4.533368718167996 2.0\n",
      "1 3.0 optimal 0.6412433667486878\n",
      "4.533368718167996 2.0\n",
      "1 4.0 optimal 0.6412432011914012\n",
      "4.533368718167996 2.0\n",
      "1 5.0 optimal 0.07739959609348811\n",
      "4.533368718167996 2.0\n",
      "1 6.0 optimal 0.0\n",
      "4.533368718167996 2.0\n",
      "1 7.0 optimal 0.0\n",
      "4.533368718167996 2.0\n",
      "1 8.0 optimal 0.0\n",
      "0.0    0.000000\n",
      "1.0    0.003373\n",
      "2.0    0.009818\n",
      "3.0    0.022055\n",
      "4.0    0.045292\n",
      "5.0    0.089415\n",
      "6.0    0.207182\n",
      "7.0    0.207182\n",
      "8.0    0.207182\n",
      "9.0    0.207182\n",
      "dtype: float64\n",
      "1 0.0 0.20718225037764731\n",
      "4.533368718167996 2.0\n",
      "2 0.0 optimal 0.7021744868323052\n",
      "4.533368718167996 2.0\n",
      "2 1.0 optimal 0.7021744868322483\n",
      "4.533368718167996 2.0\n",
      "2 2.0 optimal 0.7021744868322446\n",
      "4.533368718167996 2.0\n",
      "2 3.0 optimal 0.7021744868322822\n",
      "4.533368718167996 2.0\n",
      "2 4.0 optimal 0.7021733604778566\n",
      "4.533368718167996 2.0\n",
      "2 5.0 optimal 0.2209479060833267\n",
      "4.533368718167996 2.0\n",
      "2 6.0 optimal 0.0\n",
      "4.533368718167996 2.0\n",
      "2 7.0 optimal 0.0\n",
      "4.533368718167996 2.0\n",
      "2 8.0 optimal 0.0\n",
      "0.0    0.000000\n",
      "1.0    0.004220\n",
      "2.0    0.012735\n",
      "3.0    0.029921\n",
      "4.0    0.064604\n",
      "5.0    0.134600\n",
      "6.0    0.267504\n",
      "7.0    0.267504\n",
      "8.0    0.267504\n",
      "9.0    0.267504\n",
      "dtype: float64\n",
      "2 0.0 0.26750446585138254\n",
      "4.533368718167996 1.0\n",
      "3 0.0 optimal 0.8064098226883304\n",
      "4.533368718167996 1.0\n",
      "3 1.0 optimal 0.8061869279135547\n",
      "4.533368718167996 1.0\n",
      "3 2.0 optimal 0.8061869279135991\n",
      "4.533368718167996 1.0\n",
      "3 3.0 optimal 0.8061869279135808\n",
      "4.533368718167996 1.0\n",
      "3 4.0 optimal 0.8061869292589167\n",
      "4.533368718167996 1.0\n",
      "3 5.0 optimal 0.23144247727103093\n",
      "4.533368718167996 1.0\n",
      "3 6.0 optimal 0.0\n",
      "4.533368718167996 1.0\n",
      "3 7.0 optimal 0.0\n",
      "4.533368718167996 1.0\n",
      "3 8.0 optimal 0.0\n",
      "0.0    0.000000\n",
      "1.0    0.007840\n",
      "2.0    0.025385\n",
      "3.0    0.064675\n",
      "4.0    0.152657\n",
      "5.0    0.349681\n",
      "6.0    0.726495\n",
      "7.0    0.726495\n",
      "8.0    0.726495\n",
      "9.0    0.726495\n",
      "dtype: float64\n",
      "3 0.0 0.7264954613329757\n",
      "4.533368718167996 1.0\n",
      "4 0.0 optimal 0.4841786227533884\n",
      "4.533368718167996 1.0\n",
      "4 1.0 optimal 0.48417862275343826\n",
      "4.533368718167996 1.0\n",
      "4 2.0 optimal 0.4841786227535683\n",
      "4.533368718167996 1.0\n",
      "4 3.0 optimal 0.4841786227534118\n",
      "4.533368718167996 1.0\n",
      "4 4.0 optimal 0.4841781817886568\n",
      "4.533368718167996 1.0\n",
      "4 5.0 optimal 0.12243962835462252\n",
      "4.533368718167996 1.0\n",
      "4 6.0 optimal 0.0\n",
      "4.533368718167996 1.0\n",
      "4 7.0 optimal 0.0\n",
      "4.533368718167996 1.0\n",
      "4 8.0 optimal 0.0\n",
      "0.0    0.000000\n",
      "1.0    0.004021\n",
      "2.0    0.010546\n",
      "3.0    0.021135\n",
      "4.0    0.038319\n",
      "5.0    0.066207\n",
      "6.0    0.113279\n",
      "7.0    0.113279\n",
      "8.0    0.113279\n",
      "9.0    0.113279\n",
      "dtype: float64\n",
      "4 0.08328706145983099 0.11327866993635057\n"
     ]
    }
   ],
   "source": [
    "omg.generate_data_for_host(filename)"
   ]
  },
  {
   "cell_type": "code",
   "execution_count": null,
   "metadata": {},
   "outputs": [],
   "source": []
  }
 ],
 "metadata": {
  "kernelspec": {
   "display_name": "biodesign_3.7",
   "language": "python",
   "name": "biod_3.7"
  },
  "language_info": {
   "codemirror_mode": {
    "name": "ipython",
    "version": 3
   },
   "file_extension": ".py",
   "mimetype": "text/x-python",
   "name": "python",
   "nbconvert_exporter": "python",
   "pygments_lexer": "ipython3",
   "version": "3.7.4"
  }
 },
 "nbformat": 4,
 "nbformat_minor": 4
}
