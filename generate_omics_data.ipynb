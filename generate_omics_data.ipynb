{
 "cells": [
  {
   "cell_type": "markdown",
   "metadata": {},
   "source": [
    "## Imports"
   ]
  },
  {
   "cell_type": "code",
   "execution_count": 1,
   "metadata": {},
   "outputs": [],
   "source": [
    "import omg\n",
    "import os"
   ]
  },
  {
   "cell_type": "markdown",
   "metadata": {},
   "source": [
    "## User parameters passed to the program"
   ]
  },
  {
   "cell_type": "code",
   "execution_count": 2,
   "metadata": {},
   "outputs": [],
   "source": [
    "user_params = {\n",
    "    'host': 'ecoli', # ecoli or ropacus\n",
    "    'modelfile': 'iJO1366_MVA.json',\n",
    "    'timestart': 0.0,\n",
    "    'timestop': 8.0,\n",
    "    'numpoints': 9,\n",
    "    'trainingfile': 'training_data_8genes.csv',\n",
    "    'trainingfilepath': 'sample_files',\n",
    "    'numreactions': 8,\n",
    "    'numinstances': 5\n",
    "}"
   ]
  },
  {
   "cell_type": "markdown",
   "metadata": {},
   "source": [
    "## Instructions\n",
    "1. git clone -b omgforallhosts --single-branch https://github.com/JBEI/OMG.git\n",
    "2. open generate_omics_data.ipynb in jupyterhub\n",
    "3. We are runinng this on jprime.lbl.gov server that has the cplex optimization library installed which is required for the running MOMA calculations.\n",
    "4. We are using the biodesign_3.7 kernel on the server.\n",
    "3. There are two files that are absolutely necessary for the program to run and are present in the sample_files directory:\n",
    "   - A modified E coli model with the isopentenol pathway added to it (iJO1366_MVA.json)\n",
    "   - A training set of 95 strains containing the details of which reactions we are either:\n",
    "       - (0) eliminating \n",
    "       - (1) including\n",
    "       - (2) doubling the flux of the reaction\n",
    "4. Before running the OMG code in the notebook, you need to copy these files in to the 'data' folder\n",
    "5. Run the cells below"
   ]
  },
  {
   "cell_type": "markdown",
   "metadata": {},
   "source": [
    "## Set the global variables in the OMG code form the user params"
   ]
  },
  {
   "cell_type": "code",
   "execution_count": 3,
   "metadata": {},
   "outputs": [],
   "source": [
    "omg.HOST_NAME = user_params['host']\n",
    "omg.MODEL_FILENAME = user_params['modelfile']\n",
    "omg.TIMESTART = user_params['timestart']\n",
    "omg.TIMESTOP = user_params['timestop']\n",
    "omg.NUMPOINTS = user_params['numpoints']\n",
    "omg.TRAINING_FILE_NAME = user_params['trainingfile']\n",
    "omg.TRAINING_FILE_PATH = user_params['trainingfilepath']\n",
    "omg.NUM_REACTIONS = user_params['numreactions']\n",
    "omg.NUM_INSTANCES = user_params['numinstances']"
   ]
  },
  {
   "cell_type": "markdown",
   "metadata": {},
   "source": [
    "## Creating the data folder and the output folder within it"
   ]
  },
  {
   "cell_type": "code",
   "execution_count": 4,
   "metadata": {},
   "outputs": [],
   "source": [
    "# creating the file path to the model file\n",
    "filename = os.path.join(omg.DATA_FILE_PATH, omg.MODEL_FILENAME)"
   ]
  },
  {
   "cell_type": "markdown",
   "metadata": {},
   "source": [
    "## Run OMG code to genarate synthetic data"
   ]
  },
  {
   "cell_type": "code",
   "execution_count": null,
   "metadata": {},
   "outputs": [],
   "source": [
    "omg.generate_data_for_host(filename)"
   ]
  },
  {
   "cell_type": "code",
   "execution_count": null,
   "metadata": {},
   "outputs": [],
   "source": []
  }
 ],
 "metadata": {
  "kernelspec": {
   "display_name": "biodesign_3.7",
   "language": "python",
   "name": "biod_3.7"
  },
  "language_info": {
   "codemirror_mode": {
    "name": "ipython",
    "version": 3
   },
   "file_extension": ".py",
   "mimetype": "text/x-python",
   "name": "python",
   "nbconvert_exporter": "python",
   "pygments_lexer": "ipython3",
   "version": "3.7.4"
  }
 },
 "nbformat": 4,
 "nbformat_minor": 4
}
