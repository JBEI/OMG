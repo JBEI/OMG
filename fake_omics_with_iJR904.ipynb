{
 "cells": [
  {
   "cell_type": "markdown",
   "metadata": {},
   "source": [
    "## Setup"
   ]
  },
  {
   "cell_type": "markdown",
   "metadata": {},
   "source": [
    "Importing dependencies:"
   ]
  },
  {
   "cell_type": "code",
   "execution_count": 77,
   "metadata": {},
   "outputs": [],
   "source": [
    "import cobra\n",
    "import pandas as pd\n",
    "import random\n",
    "import numpy as np\n",
    "import os"
   ]
  },
  {
   "cell_type": "markdown",
   "metadata": {},
   "source": [
    "## Load model"
   ]
  },
  {
   "cell_type": "code",
   "execution_count": 56,
   "metadata": {},
   "outputs": [],
   "source": [
    "file_name = 'multi_omics_data.sbml'\n",
    "file_name = 'iECIAI39_1322.xml'\n",
    "model = cobra.io.read_sbml_model(file_name)"
   ]
  },
  {
   "cell_type": "code",
   "execution_count": 57,
   "metadata": {},
   "outputs": [
    {
     "name": "stdout",
     "output_type": "stream",
     "text": [
      "frozenset({<Gene ECIAI39_3506 at 0x7ffa20113d30>, <Gene ECIAI39_0442 at 0x7ffa20113fd0>})\n"
     ]
    }
   ],
   "source": [
    "reaction = model.reactions[1000]\n",
    "print(reaction.genes)\n",
    "# gene = list(reaction.genes)[0]\n",
    "# gene.annotation['uniprot']"
   ]
  },
  {
   "cell_type": "markdown",
   "metadata": {},
   "source": [
    "## Find list of reactions"
   ]
  },
  {
   "cell_type": "code",
   "execution_count": 58,
   "metadata": {},
   "outputs": [
    {
     "name": "stdout",
     "output_type": "stream",
     "text": [
      "List of reactions related to BIOMASS production:\n",
      "BIOMASS_Ec_iJO1366_WT_53p95M: E. coli biomass objective function (iJO1366) - WT - with 53.95 GAM estimate\n",
      "BIOMASS_Ec_iJO1366_core_53p95M: E. coli biomass objective function (iJO1366) - core - with 53.95 GAM estimate\n"
     ]
    }
   ],
   "source": [
    "def get_list_of_reactions(file_name):\n",
    "    \"\"\"\n",
    "\n",
    "    :param file_name: Name of the model file (has to be xml for now)\n",
    "    :return: None (prints the list of reactions that has mass in them)\n",
    "    \"\"\"\n",
    "\n",
    "    # Load model¶depending on the kind of file (the file has to be xml)\n",
    "    if file_name.endswith(\".xml\"):\n",
    "        model = cobra.io.read_sbml_model(file_name)\n",
    "\n",
    "    # Print out the reaction name and reaction id for all reactions related to BIOMASS production:\n",
    "    print(\"List of reactions related to BIOMASS production:\")\n",
    "    for rxn in model.reactions:\n",
    "        if rxn.name is not None and 'BIOMASS' in rxn.id:\n",
    "            print(\"{}: {}\".format(rxn.id, rxn.name))\n",
    "            \n",
    "# spits out the list of reaction names related to BIOMASS production\n",
    "get_list_of_reactions(file_name)"
   ]
  },
  {
   "cell_type": "markdown",
   "metadata": {},
   "source": [
    "Let's check if the reaction is bound:"
   ]
  },
  {
   "cell_type": "code",
   "execution_count": 59,
   "metadata": {},
   "outputs": [
    {
     "data": {
      "text/plain": [
       "(0.0, 1000.0)"
      ]
     },
     "execution_count": 59,
     "metadata": {},
     "output_type": "execute_result"
    }
   ],
   "source": [
    "# model.reactions.get_by_id('BIOMASS_Ecoli').bounds\n",
    "model.reactions.get_by_id('BIOMASS_Ec_iJO1366_core_53p95M').bounds"
   ]
  },
  {
   "cell_type": "markdown",
   "metadata": {},
   "source": [
    "It isn't, and that is a good thing"
   ]
  },
  {
   "cell_type": "markdown",
   "metadata": {},
   "source": [
    "Let's fix glucose to a set input:"
   ]
  },
  {
   "cell_type": "code",
   "execution_count": 60,
   "metadata": {},
   "outputs": [],
   "source": [
    "model.reactions.get_by_id('EX_glc__D_e').lower_bound = -15\n",
    "model.reactions.get_by_id('EX_glc__D_e').upper_bound = -15"
   ]
  },
  {
   "cell_type": "code",
   "execution_count": 61,
   "metadata": {},
   "outputs": [
    {
     "data": {
      "text/html": [
       "\n",
       "        <table>\n",
       "            <tr>\n",
       "                <td><strong>Reaction identifier</strong></td><td>EX_glc__D_e</td>\n",
       "            </tr><tr>\n",
       "                <td><strong>Name</strong></td><td>D-Glucose exchange</td>\n",
       "            </tr><tr>\n",
       "                <td><strong>Memory address</strong></td>\n",
       "                <td>0x07ffa1be8be48</td>\n",
       "            </tr><tr>\n",
       "                <td><strong>Stoichiometry</strong></td>\n",
       "                <td>\n",
       "                    <p style='text-align:right'>glc__D_e <-- </p>\n",
       "                    <p style='text-align:right'>D-Glucose <-- </p>\n",
       "                </td>\n",
       "            </tr><tr>\n",
       "                <td><strong>GPR</strong></td><td></td>\n",
       "            </tr><tr>\n",
       "                <td><strong>Lower bound</strong></td><td>-15</td>\n",
       "            </tr><tr>\n",
       "                <td><strong>Upper bound</strong></td><td>-15</td>\n",
       "            </tr>\n",
       "        </table>\n",
       "        "
      ],
      "text/plain": [
       "<Reaction EX_glc__D_e at 0x7ffa1be8be48>"
      ]
     },
     "execution_count": 61,
     "metadata": {},
     "output_type": "execute_result"
    }
   ],
   "source": [
    "model.reactions.get_by_id(\"EX_glc__D_e\")"
   ]
  },
  {
   "cell_type": "markdown",
   "metadata": {},
   "source": [
    "Let's calculate fluxes now:"
   ]
  },
  {
   "cell_type": "code",
   "execution_count": 62,
   "metadata": {},
   "outputs": [
    {
     "name": "stdout",
     "output_type": "stream",
     "text": [
      "IN FLUXES             OUT FLUXES           OBJECTIVES\n",
      "--------------------  -------------------  ---------------------\n",
      "o2_e       26.1       h2o_e     68.3       BIOMASS_Ec_i...  1.48\n",
      "nh4_e      16         co2_e     29.2\n",
      "glc__D_e   15         h_e       13.6\n",
      "pi_e        1.43      mththf_c   0.000663\n",
      "so4_e       0.373     5drib_c    2.96e-06\n",
      "k_e         0.289     amob_c     2.96e-06\n",
      "fe2_e       0.0238    meoh_e     2.96e-06\n",
      "mg2_e       0.0128\n",
      "ca2_e       0.00771\n",
      "cl_e        0.00771\n",
      "cu2_e       0.00105\n",
      "mn2_e       0.00102\n",
      "thf_c       0.000991\n",
      "zn2_e       0.000505\n",
      "ni2_e       0.000478\n",
      "thm_e       0.00033\n",
      "mobd_e      0.000191\n",
      "cobalt2_e   3.7e-05\n"
     ]
    }
   ],
   "source": [
    "model.summary()"
   ]
  },
  {
   "cell_type": "code",
   "execution_count": 63,
   "metadata": {},
   "outputs": [],
   "source": [
    "solution = model.optimize()"
   ]
  },
  {
   "cell_type": "code",
   "execution_count": 64,
   "metadata": {},
   "outputs": [
    {
     "name": "stdout",
     "output_type": "stream",
     "text": [
      "IN FLUXES             OUT FLUXES           OBJECTIVES\n",
      "--------------------  -------------------  ---------------------\n",
      "o2_e       26.1       h2o_e     68.3       BIOMASS_Ec_i...  1.48\n",
      "nh4_e      16         co2_e     29.2\n",
      "glc__D_e   15         h_e       13.6\n",
      "pi_e        1.43      mththf_c   0.000663\n",
      "so4_e       0.373     5drib_c    2.96e-06\n",
      "k_e         0.289     amob_c     2.96e-06\n",
      "fe2_e       0.0238    meoh_e     2.96e-06\n",
      "mg2_e       0.0128\n",
      "ca2_e       0.00771\n",
      "cl_e        0.00771\n",
      "cu2_e       0.00105\n",
      "mn2_e       0.00102\n",
      "thf_c       0.000991\n",
      "zn2_e       0.000505\n",
      "ni2_e       0.000478\n",
      "thm_e       0.00033\n",
      "mobd_e      0.000191\n",
      "cobalt2_e   3.7e-05\n"
     ]
    }
   ],
   "source": [
    "model.summary()"
   ]
  },
  {
   "cell_type": "markdown",
   "metadata": {},
   "source": [
    "We can always check what a metabolite is by doing this:"
   ]
  },
  {
   "cell_type": "code",
   "execution_count": 65,
   "metadata": {},
   "outputs": [
    {
     "name": "stdout",
     "output_type": "stream",
     "text": [
      "glycogen_c: Glycogen C6H10O5\n",
      "gly_c: Glycine\n",
      "cgly_e: Cys Gly C5H10N2O3S\n",
      "gly_e: Glycine\n",
      "glyald_e: D-Glyceraldehyde\n",
      "glyb_e: Glycine betaine\n",
      "glyc_e: Glycerol\n",
      "glyc__R_e: (R)-Glycerate\n",
      "glyc2p_e: Glycerol 2-phosphate\n",
      "glyc3p_e: Glycerol 3-phosphate\n",
      "glyclt_e: Glycolate C2H3O3\n",
      "manglyc_e: 2(alpha-D-Mannosyl)-D-glycerate\n",
      "progly_e: L-Prolinylglycine\n",
      "glyc_c: Glycerol\n",
      "glyald_c: D-Glyceraldehyde\n",
      "urdglyc_c: (-)-Ureidoglycolate\n",
      "cgly_c: Cys Gly C5H10N2O3S\n",
      "progly_c: L-Prolinylglycine\n",
      "glyc3p_c: Glycerol 3-phosphate\n",
      "glyb_c: Glycine betaine\n",
      "cgly_p: Cys Gly C5H10N2O3S\n",
      "glyc_p: Glycerol\n",
      "glyc2p_c: Glycerol 2-phosphate\n",
      "glyc2p_p: Glycerol 2-phosphate\n",
      "bglycogen_c: Branching glycogen\n",
      "glyald_p: D-Glyceraldehyde\n",
      "glyb_p: Glycine betaine\n",
      "glyc3p_p: Glycerol 3-phosphate\n",
      "glyc__R_c: (R)-Glycerate\n",
      "glyc__R_p: (R)-Glycerate\n",
      "glyclt_c: Glycolate C2H3O3\n",
      "glyclt_p: Glycolate C2H3O3\n",
      "glytrna_c: Glycyl-tRNA(Gly)\n",
      "trnagly_c: TRNA(Gly)\n",
      "gly_p: Glycine\n",
      "manglyc_p: 2(alpha-D-Mannosyl)-D-glycerate\n",
      "2pglyc_c: 2-Phosphoglycolate\n",
      "progly_p: L-Prolinylglycine\n",
      "dhgly_c: Dehydroglycine\n",
      "man6pglyc_c: 2(alpha-D-Mannosyl-6-phosphate)-D-glycerate\n"
     ]
    },
    {
     "data": {
      "text/html": [
       "\n",
       "        <table>\n",
       "            <tr>\n",
       "                <td><strong>Metabolite identifier</strong></td><td>glyclt_e</td>\n",
       "            </tr><tr>\n",
       "                <td><strong>Name</strong></td><td>Glycolate C2H3O3</td>\n",
       "            </tr><tr>\n",
       "                <td><strong>Memory address</strong></td>\n",
       "                <td>0x07ffa204c1748</td>\n",
       "            </tr><tr>\n",
       "                <td><strong>Formula</strong></td><td>C2H3O3</td>\n",
       "            </tr><tr>\n",
       "                <td><strong>Compartment</strong></td><td>e</td>\n",
       "            </tr><tr>\n",
       "                <td><strong>In 2 reaction(s)</strong></td><td>\n",
       "                    GLYCLTtex, EX_glyclt_e</td>\n",
       "            </tr>\n",
       "        </table>"
      ],
      "text/plain": [
       "<Metabolite glyclt_e at 0x7ffa204c1748>"
      ]
     },
     "execution_count": 65,
     "metadata": {},
     "output_type": "execute_result"
    }
   ],
   "source": [
    "for met in model.metabolites:\n",
    "    if \"gly\" in met.id:\n",
    "        print(\"{}: {}\".format(met.id, met.name))\n",
    "model.metabolites.get_by_id('glyclt_e')"
   ]
  },
  {
   "cell_type": "markdown",
   "metadata": {},
   "source": [
    "Define a file path for input/output files"
   ]
  },
  {
   "cell_type": "code",
   "execution_count": 79,
   "metadata": {},
   "outputs": [],
   "source": [
    "data_file_path = './data'\n",
    "if not os.path.isdir(data_file_path):\n",
    "    os.mkdir(data_file_path)"
   ]
  },
  {
   "cell_type": "markdown",
   "metadata": {},
   "source": [
    "Get the optimized solution to the model given constraint of amount of glucose production\n",
    "Takes in the model and a reaction id which we are trying to optimize"
   ]
  },
  {
   "cell_type": "code",
   "execution_count": 67,
   "metadata": {},
   "outputs": [],
   "source": [
    "def get_optimized_solution(model, reaction_id):\n",
    "    \"\"\"\n",
    "\n",
    "    :param model:\n",
    "    :param reaction_id:\n",
    "    :return solution:\n",
    "    \"\"\"\n",
    "\n",
    "    # check to see if the reaction is bound (need to add a check here)\n",
    "    # DISCUSS!!\n",
    "    print(model.reactions.get_by_id(reaction_id).bounds)\n",
    "\n",
    "    # fix the flux value to -15 as we have data for this constraint\n",
    "    model.reactions.get_by_id(reaction_id).lower_bound = -15\n",
    "    model.reactions.get_by_id(reaction_id).upper_bound = -15\n",
    "    model.reactions.get_by_id(reaction_id)\n",
    "\n",
    "    solution = model.optimize()\n",
    "\n",
    "    return solution"
   ]
  },
  {
   "cell_type": "markdown",
   "metadata": {},
   "source": [
    "Generate fake data for proteomics, transcriptomics and metabolomics"
   ]
  },
  {
   "cell_type": "code",
   "execution_count": 68,
   "metadata": {},
   "outputs": [],
   "source": [
    "def generate_fake_data(model, condition):\n",
    "    \"\"\"\n",
    "\n",
    "    :param model: cobra model object\n",
    "    :param solution: solution for the model optimization using cobra\n",
    "    :param data_type: defines the type of -omics data to generate (all by default)\n",
    "    :return:\n",
    "    \"\"\"\n",
    "\n",
    "    # reaction_id of choice passed to the function# hardcoded here for this particular file (Need to convert this to an interactive cli program)\n",
    "    reaction_id = 'BIOMASS_Ec_iJO1366_core_53p95M'\n",
    "    # solution = None\n",
    "\n",
    "    while condition:\n",
    "        print(\"Condition parameter: \", condition)\n",
    "        condition-=1\n",
    "        solution = get_optimized_solution(model, reaction_id)\n",
    "\n",
    "        get_proteomics_transcriptomics_data(model, solution, condition)\n",
    "\n",
    "        get_metabolomics_data(model, condition)"
   ]
  },
  {
   "cell_type": "code",
   "execution_count": null,
   "metadata": {},
   "outputs": [],
   "source": []
  },
  {
   "cell_type": "code",
   "execution_count": 69,
   "metadata": {},
   "outputs": [],
   "source": [
    "def write_data_files(dataframe, data_type=None, condition=1):\n",
    "    \"\"\"\n",
    "\n",
    "    :param dataframe:\n",
    "    :param data_type:\n",
    "    :param condition:\n",
    "    :return:\n",
    "    \"\"\"\n",
    "    # print(dataframe)\n",
    "    # print(\"\\n\")\n",
    "\n",
    "    # create the filenames\n",
    "    sample_file_name = f'{data_file_path}/sample_{condition}.csv'\n",
    "    omics_file_name = f'{data_file_path}/{data_type}_fakedata_sample_{condition}.csv'\n",
    "\n",
    "    # Write the dataframe into a csv file\n",
    "    # dataframe.to_csv(file_name, sep=',', encoding='utf-8')\n",
    "\n",
    "    # create file number one: sample file\n",
    "    if not os.path.isfile(sample_file_name):\n",
    "        try:\n",
    "            with open(sample_file_name, 'w') as fh:\n",
    "                fh.write(\"Line Name,\\n\")\n",
    "                fh.write(f\"Sample {condition}\")\n",
    "        except Exception as ex:\n",
    "            print(\"Error in writing file!\")\n",
    "            print(ex)\n",
    "\n",
    "    # create file number two: omics file\n",
    "    # TODO: Need to change the units to actual relevant units\n",
    "    unit_dict = { \"proteomics\": 'g/L',\\\n",
    "            \"transcriptomics\": \"g/L\",\\\n",
    "            \"metabolomics\": \"g/L\"\n",
    "            }\n",
    "\n",
    "    try:\n",
    "        with open(omics_file_name, 'w') as fh:\n",
    "            fh.write(\"Line Name, Measurement Type, Value, Units\\n\")\n",
    "            sample_name = f\"Sample {condition}\\n\"\n",
    "            spaces = ' '*len(sample_name)\n",
    "            fh.write(sample_name)\n",
    "            for index, series in dataframe.iteritems():\n",
    "                for id, value in series.iteritems():\n",
    "                    fh.write((f\"{spaces}{id}, {value}, {unit_dict[data_type]}\\n\"))\n",
    "\n",
    "    except Exception as ex:\n",
    "        print(\"Error in writing file!\")\n",
    "        print(ex)\n"
   ]
  },
  {
   "cell_type": "markdown",
   "metadata": {},
   "source": [
    "### Get fake proteomics and transcriptomics data by assuming linear relationship\n",
    "### Pi = qi.Ti => therefore Ti = Pi/qi + ∂\n",
    "### Vi = Ki.Pi => therefore Pi = Vi/Ki + ß\n",
    "### ignoring the noise here"
   ]
  },
  {
   "cell_type": "code",
   "execution_count": 73,
   "metadata": {},
   "outputs": [],
   "source": [
    "def get_proteomics_transcriptomics_data(model, solution, condition):\n",
    "    \"\"\"\n",
    "\n",
    "    :param model:\n",
    "    :param solution:\n",
    "    :param condition:\n",
    "    :return:\n",
    "    \"\"\"\n",
    "\n",
    "    # pre-determined linear constant (NOTE: Allow user to set this via parameter)\n",
    "    # DISCUSS!!\n",
    "    k = 0.8\n",
    "    q = 0.6\n",
    "\n",
    "    proteomics = {}\n",
    "    transcriptomics = {}\n",
    "\n",
    "    rxnIDs = solution.fluxes.keys()\n",
    "    for rxnId in rxnIDs:\n",
    "        reaction = model.reactions.get_by_id(rxnId)\n",
    "        for gene in list(reaction.genes):\n",
    "\n",
    "            # this will ignore all the reactions that does not have the gene.annotation property\n",
    "            # DISCUSS!!\n",
    "            if gene.annotation:\n",
    "                if 'uniprot' not in gene.annotation:\n",
    "                    protein_id = gene.annotation['goa']\n",
    "                else:\n",
    "                    protein_id = gene.annotation['uniprot']\n",
    "\n",
    "                # create proteomics dict\n",
    "                proteomics[protein_id] = solution.fluxes[rxnId]/k\n",
    "\n",
    "            # create transcriptomics dict\n",
    "            transcriptomics[gene.id] = proteomics[protein_id]/q\n",
    "\n",
    "\n",
    "    file_name = f'{data_file_path}/proteomics_fakedata_condition_{condition}.csv'\n",
    "    proteomics_dataframe = pd.DataFrame.from_dict(proteomics, orient='index')\n",
    "    write_data_files(proteomics_dataframe, \"proteomics\")\n",
    "\n",
    "    file_name = f'{data_file_path}/transcriptomics_fakedata_condition_{condition}.csv'\n",
    "    transcriptomics_dataframe = pd.DataFrame.from_dict(transcriptomics, orient='index')\n",
    "    write_data_files(transcriptomics_dataframe, \"transcriptomics\")\n"
   ]
  },
  {
   "cell_type": "code",
   "execution_count": 74,
   "metadata": {},
   "outputs": [],
   "source": [
    "def get_metabolomics_data(model, condition):\n",
    "    \"\"\"\n",
    "\n",
    "    :param model:\n",
    "    :param condition:\n",
    "    :return:\n",
    "    \"\"\"\n",
    "    metabolomics = {}\n",
    "    # get metabolites\n",
    "    # NOTE: Need to find a better algorithm. This is O(n^3)\n",
    "    for met in model.metabolites:\n",
    "        # get associated reactions\n",
    "        for reaction in list(met.reactions):\n",
    "            # get dictionary of associated metabolites and their concentrations\n",
    "            for metabolite, conc in reaction._metabolites.items():\n",
    "                if metabolite.id == met.id:\n",
    "                    if met.id not in metabolomics.keys():\n",
    "                        metabolomics[met.id] = abs(conc)\n",
    "                    else:\n",
    "                        metabolomics[met.id] += abs(conc)\n",
    "        # getting number of associated reactions and averaging the metabolic concentration value\n",
    "        num_reactions = len(list(met.reactions))\n",
    "        metabolomics[met.id]/=num_reactions\n",
    "\n",
    "    metabolomics_dataframe = pd.DataFrame.from_dict(metabolomics, orient='index')\n",
    "    # Write the dataframe into a csv file\n",
    "    file_name = f'{data_file_path}/metabolomics_fakedata_condition_{condition}.csv'\n",
    "    write_data_files(metabolomics_dataframe, \"metabolomics\")"
   ]
  },
  {
   "cell_type": "markdown",
   "metadata": {},
   "source": [
    "## Call the fake data generator"
   ]
  },
  {
   "cell_type": "code",
   "execution_count": 78,
   "metadata": {},
   "outputs": [
    {
     "name": "stdout",
     "output_type": "stream",
     "text": [
      "Condition parameter:  1\n",
      "(-15, -15)\n"
     ]
    },
    {
     "name": "stderr",
     "output_type": "stream",
     "text": [
      "cobra/util/solver.py:403 \u001b[1;31mUserWarning\u001b[0m: solver status is 'infeasible'\n"
     ]
    }
   ],
   "source": [
    "condition = 1\n",
    "generate_fake_data(model, condition)"
   ]
  },
  {
   "cell_type": "code",
   "execution_count": null,
   "metadata": {},
   "outputs": [],
   "source": []
  }
 ],
 "metadata": {
  "kernelspec": {
   "display_name": "JBEI-py3.6",
   "language": "python",
   "name": "jbei-py3.6"
  },
  "language_info": {
   "codemirror_mode": {
    "name": "ipython",
    "version": 3
   },
   "file_extension": ".py",
   "mimetype": "text/x-python",
   "name": "python",
   "nbconvert_exporter": "python",
   "pygments_lexer": "ipython3",
   "version": "3.6.3"
  }
 },
 "nbformat": 4,
 "nbformat_minor": 2
}
