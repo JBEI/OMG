{
 "cells": [
  {
   "cell_type": "code",
   "execution_count": 1,
   "metadata": {},
   "outputs": [],
   "source": [
    "%matplotlib inline\n",
    "import cobra"
   ]
  },
  {
   "cell_type": "code",
   "execution_count": 2,
   "metadata": {},
   "outputs": [],
   "source": [
    "model = cobra.io.read_sbml_model(\"reannotated_base_v3.sbml\")"
   ]
  },
  {
   "cell_type": "code",
   "execution_count": 3,
   "metadata": {},
   "outputs": [
    {
     "data": {
      "text/html": [
       "\n",
       "        <table>\n",
       "            <tr>\n",
       "                <td><strong>Name</strong></td>\n",
       "                <td>Model2019_01_18_10_35_37</td>\n",
       "            </tr><tr>\n",
       "                <td><strong>Memory address</strong></td>\n",
       "                <td>0x07f9c7f11e160</td>\n",
       "            </tr><tr>\n",
       "                <td><strong>Number of metabolites</strong></td>\n",
       "                <td>1410</td>\n",
       "            </tr><tr>\n",
       "                <td><strong>Number of reactions</strong></td>\n",
       "                <td>1124</td>\n",
       "            </tr><tr>\n",
       "                <td><strong>Objective expression</strong></td>\n",
       "                <td>-1.0*biomass_target_reverse_16213 + 1.0*biomass_target</td>\n",
       "            </tr><tr>\n",
       "                <td><strong>Compartments</strong></td>\n",
       "                <td>Cytosol, Extraorganism</td>\n",
       "            </tr>\n",
       "          </table>"
      ],
      "text/plain": [
       "<Model Model2019_01_18_10_35_37 at 0x7f9c7f11e160>"
      ]
     },
     "execution_count": 3,
     "metadata": {},
     "output_type": "execute_result"
    }
   ],
   "source": [
    "model"
   ]
  },
  {
   "cell_type": "code",
   "execution_count": 4,
   "metadata": {},
   "outputs": [
    {
     "name": "stdout",
     "output_type": "stream",
     "text": [
      "[('C04218_c', \"alpha,alpha'-Trehalose 6-mycolate\"), ('C03741_c', 'L-Glutamate1-semialdehyde')]\n",
      "[('R05032', 'UDP-N-acetyl-D-glucosamine:undecaprenyl-diphospho-N-acetylmuramoyl-L-alanyl-gamma-D-glutamyl-meso-2,6-diaminopimeloyl-D-alanyl-D-alanine 4-beta-N-acetylglucosaminlytransferase'), ('R09724', 'trans-Permethrin acylhydrolase')]\n",
      "[('Pd630_LPD03179', 'Pd630_LPD03179'), ('Pd630_LPD0909578', 'Pd630_LPD0909578')]\n"
     ]
    }
   ],
   "source": [
    "print([(m.id, m.name) for m in model.metabolites][0:2])\n",
    "print([(r.id, r.name) for r in model.reactions][0:2])\n",
    "print([(g.id, g.name) for g in model.genes][0:2])"
   ]
  },
  {
   "cell_type": "code",
   "execution_count": 5,
   "metadata": {},
   "outputs": [
    {
     "data": {
      "text/plain": [
       "{}"
      ]
     },
     "execution_count": 5,
     "metadata": {},
     "output_type": "execute_result"
    }
   ],
   "source": [
    "model.medium"
   ]
  },
  {
   "cell_type": "code",
   "execution_count": 6,
   "metadata": {},
   "outputs": [
    {
     "data": {
      "text/plain": [
       "[]"
      ]
     },
     "execution_count": 6,
     "metadata": {},
     "output_type": "execute_result"
    }
   ],
   "source": [
    "model.exchanges"
   ]
  },
  {
   "cell_type": "code",
   "execution_count": 7,
   "metadata": {},
   "outputs": [
    {
     "name": "stdout",
     "output_type": "stream",
     "text": [
      "SRC_C00001_e: C00001_b --> C00001_e H2O\n",
      "SRC_C00007_e: C00007_b --> C00007_e O2\n",
      "SRC_C00009_e: C00009_b --> C00009_e Phosphate\n",
      "SRC_C00010_e: C00010_b --> C00010_e CoA\n",
      "SRC_C00014_e: C00014_b --> C00014_e NH3\n",
      "SRC_C00034_e: C00034_b --> C00034_e Manganese\n",
      "SRC_C00038_e: C00038_b --> C00038_e Zn2+\n",
      "SRC_C00042_c: C00042_b --> C00042_c Succinate\n",
      "SRC_C00051_e: C00051_b --> C00051_e GSH\n",
      "SRC_C00059_e: C00059_b --> C00059_e Sulfate\n",
      "SRC_C00061_e: C00061_b --> C00061_e FMN\n",
      "SRC_C00070_e: C00070_b --> C00070_e Copper\n",
      "SRC_C00073_e: C00073_b --> C00073_e L-Methionine\n",
      "SRC_C00076_e: C00076_b --> C00076_e Ca2+\n",
      "SRC_C00078_e: C00078_b --> C00078_e L-Tryptophan\n",
      "SRC_C00079_e: C00079_b --> C00079_e L-Phenylalanine\n",
      "SRC_C00080_c: C00080_b --> C00080_c H+\n",
      "SRC_C00082_e: C00082_b --> C00082_e L-Tyrosine\n",
      "SRC_C00123_e: C00123_b --> C00123_e L-Leucine\n",
      "SRC_C00135_e: C00135_b --> C00135_e L-Histidine\n",
      "SRC_C00149_c: C00149_b --> C00149_c L-Malate\n",
      "SRC_C00175_c: C00175_b --> C00175_c Co2+\n",
      "SRC_C00183_e: C00183_b --> C00183_e L-Valine\n",
      "SRC_C00185_e: C00185_b --> C00185_e CELB\n",
      "SRC_C00238_e: C00238_b --> C00238_e K+\n",
      "SRC_C00253_e: C00253_b --> C00253_e Niacin\n",
      "SRC_C00286_c: C00286_b --> C00286_c dGTP\n",
      "SRC_C00305_e: C00305_b --> C00305_e Mg\n",
      "SRC_C00407_e: C00407_b --> C00407_e L-Isoleucine\n",
      "SRC_C00458_c: C00458_b --> C00458_c dCTP\n",
      "SRC_C00698_e: C00698_b --> C00698_e Cl-\n",
      "SRC_C00716_c: C00716_b --> C00716_c DL-Serine\n",
      "SRC_C01352_c: C01352_b --> C01352_c FADH2\n",
      "SRC_C03187_c: C03187_b --> C03187_c dTDP-6-deoxy-L-talose\n",
      "SRC_C14819_e: C14819_b --> C14819_e Fe+3\n",
      "SRC_C15542_c: C15542_b --> C15542_c D-Mannosyl-1-phosphoundecaprenol\n",
      "\n",
      "ESC_C00001_e: C00001_e --> C00001_b H2O\n",
      "ESC_C00011_e: C00011_e --> C00011_b CO2\n",
      "ESC_C00014_e: C00014_e --> C00014_b NH3\n",
      "ESC_C00033_c: C00033_c --> C00033_b Acetate\n",
      "ESC_C00042_c: C00042_c --> C00042_b Succinate\n",
      "ESC_C00080_c: C00080_c --> C00080_b H+\n",
      "ESC_C00080_e: C00080_e --> C00080_b H+\n",
      "ESC_C00149_c: C00149_c --> C00149_b L-Malate\n",
      "ESC_C00186_c: C00186_c --> C00186_b L-Lactate\n",
      "ESC_C00266_c: C00266_c --> C00266_b Glycolaldehyde\n",
      "ESC_C00469_c: C00469_c --> C00469_b Ethanol\n"
     ]
    }
   ],
   "source": [
    "# SRC and ESC reactions\n",
    "for r in sorted(model.reactions, key=lambda x: x.id):\n",
    "    if r.id.startswith('SRC'):\n",
    "        print(r, r.products[0].name)\n",
    "print()\n",
    "for r in sorted(model.reactions, key=lambda x: x.id):\n",
    "    if r.id.startswith('ESC'):\n",
    "        print(r, r.products[0].name)"
   ]
  },
  {
   "cell_type": "code",
   "execution_count": 8,
   "metadata": {},
   "outputs": [
    {
     "name": "stdout",
     "output_type": "stream",
     "text": [
      "4abzt: C00568_e --> C00568_c\n",
      "a_D_glucoset: C00031_e --> C00031_c\n",
      "adet: C00147_e --> C00147_c\n",
      "adnt: C00212_e --> C00212_c\n",
      "ala_Lt: C00041_e --> C00041_c\n",
      "amett: C00019_e --> C00019_c\n",
      "arab_Dt: C00216_e --> C00216_c\n",
      "arg_Lt: C00062_e --> C00062_c\n",
      "ascb_Lt: C00072_e --> C00072_c\n",
      "asn_Lt: C00152_e --> C00152_c\n",
      "asp_Lt: C00049_e --> C00049_c\n",
      "avite1t: avite1_e --> avite1_c\n",
      "b_D_glucoset: C00221_e --> C00221_c\n",
      "btnt: C00120_e --> C00120_c\n",
      "ca2t: C00076_e --> C00076_c\n",
      "cd2t: C01413_e --> C01413_c\n",
      "cellb: C00185_e --> C00185_c\n",
      "cellobioset: C04534_e --> C04534_c\n",
      "celluloset: C00760_e --> C00760_c\n",
      "cholt: C00114_e --> C00114_c\n",
      "chsterolt: C00187_e --> C00187_c\n",
      "clt: C00698_e --> C00698_c\n",
      "coat: C00010_e --> C00010_c\n",
      "csnt: C00380_e --> C00380_c\n",
      "cu2t: C00070_e --> C00070_c\n",
      "cys_Lt: C00097_e --> C00097_c\n",
      "cytdt: cytd_e --> cytd_c\n",
      "dribt: C01801_e --> C01801_c\n",
      "ergstt: C01694_e --> C01694_c\n",
      "fe2t: C00023_e --> C00023_c\n",
      "fe3t: C14819_e --> C14819_c\n",
      "fmnt: C00061_e --> C00061_c\n",
      "folt: C00504_e --> C00504_c\n",
      "frut: C00095_e --> C00095_c\n",
      "galt: C00124_e --> C00124_c\n",
      "glc_Dt: C00031_e --> C00031_c\n",
      "gln_Lt: C00064_e --> C00064_c\n",
      "glu_Lt: C00025_e --> C00025_c\n",
      "glyt: C00037_e --> C00037_c\n",
      "gsnt: C00387_e --> C00387_c\n",
      "gthrdt: C00051_e --> C00051_c\n",
      "guat: C00242_e --> C00242_c\n",
      "his_Lt: C00135_e --> C00135_c\n",
      "hxant: C00262_e --> C00262_c\n",
      "ile_Lt: C00407_e --> C00407_c\n",
      "inostt: C00137_e --> C00137_c\n",
      "inst: C00294_e --> C00294_c\n",
      "kt: C00238_e --> C00238_c\n",
      "lctst: C00243_e --> C00243_c\n",
      "leu_Lt: C00123_e --> C00123_c\n",
      "lys_Lt: C00047_e --> C00047_c\n",
      "maltt: C00208_e --> C00208_c\n",
      "malttrt: C01835_e --> C01835_c\n",
      "mant: C00159_e --> C00159_c\n",
      "met_Lt: C00073_e --> C00073_c\n",
      "mg2t: C00305_e --> C00305_c\n",
      "mn2t: C00034_e --> C00034_c\n",
      "mobdt: C06232_e --> C06232_c\n",
      "na1t: C01330_e --> C01330_c\n",
      "nact: C00253_e --> C00253_c\n",
      "nadt: C00003_e --> C00003_c\n",
      "ncamt: C00153_e --> C00153_c\n",
      "ni2t: C00291_e --> C00291_c\n",
      "nmnt: C00455_e --> C00455_c\n",
      "o2t: C00007_e --> C00007_c\n",
      "ornt: C00077_e --> C00077_c\n",
      "phe_Lt: C00079_e --> C00079_c\n",
      "phemet: C00032_e --> C00032_c\n",
      "pit: C00009_e --> C00009_c\n",
      "pnto_Rt: C00864_e --> C00864_c\n",
      "pro_Lt: C00148_e --> C00148_c\n",
      "ptrct: C00134_e --> C00134_c\n",
      "pydxnt: C00314_e --> C00314_c\n",
      "pydxt: C00250_e --> C00250_c\n",
      "retinolt: retinol_e --> retinol_c\n",
      "rib_Dt: C00121_e --> C00121_c\n",
      "ribflvt: C00255_e --> C00255_c\n",
      "ser_Lt: C00065_e --> C00065_c\n",
      "so4t: C00059_e --> C00059_c\n",
      "spmdt: C00315_e --> C00315_c\n",
      "sprmt: C00750_e --> C00750_c\n",
      "st: C00087_e --> C00087_c\n",
      "strch1t: C00369_e --> C00369_c\n",
      "strch2t: C00369_e --> C00369_c\n",
      "sucrt: C00089_e --> C00089_c\n",
      "tcyntt: C01755_e --> C01755_c\n",
      "thft: C00101_e --> C00101_c\n",
      "thmt: C00378_e --> C00378_c\n",
      "thr_Lt: C00188_e --> C00188_c\n",
      "thymdt: C00214_e --> C00214_c\n",
      "thymt: C00178_e --> C00178_c\n",
      "trp_Lt: C00078_e --> C00078_c\n",
      "tyr_Lt: C00082_e --> C00082_c\n",
      "urat: C00106_e --> C00106_c\n",
      "uratet: C00366_e --> C00366_c\n",
      "urit: C00299_e --> C00299_c\n",
      "val_Lt: C00183_e --> C00183_c\n",
      "vitd2t: vitd2_e --> vitd2_c\n",
      "xant: C00385_e --> C00385_c\n",
      "xyl_Dt: C00181_e --> C00181_c\n",
      "xyltt: C00379_e --> C00379_c\n",
      "zn2t: C00038_e --> C00038_c\n",
      "zymstt: C05437_e --> C05437_c\n",
      "\n",
      "acact: C00164_c --> C00164_e\n",
      "acaldt: C00084_c --> C00084_e\n",
      "acetonet: C00207_c --> C00207_e\n",
      "act: C00033_c <=> C00033_e\n",
      "co2t: C00011_c <=> C00011_e\n",
      "etoht: C00469_c --> C00469_e\n",
      "fort: C00058_c --> C00058_e\n",
      "fumt: C00122_c <=> C00122_e\n",
      "h2ot: C00001_c <=> C00001_e\n",
      "hco3t: C00288_c <=> C00288_e\n",
      "ht: C00080_c --> C00080_e\n",
      "lac_Dt: C00256_c <=> C00256_e\n",
      "lac_Lt: C00186_c <=> C00186_e\n",
      "mal_Lt: C00149_c <=> C00149_e\n",
      "nh4t: C00014_c <=> C00014_e\n",
      "orott: C00295_c <=> C00295_e\n",
      "pyrt: C00022_c <=> C00022_e\n",
      "succt: C00042_c <=> C00042_e\n",
      "ureat: C00086_c --> C00086_e\n"
     ]
    }
   ],
   "source": [
    "# Transport reactions\n",
    "for r in sorted(model.reactions, key=lambda x: x.id):\n",
    "    if any(m.id.endswith('_e') for m in r.reactants) and any(m.id.endswith('_c') for m in r.products):\n",
    "        print(r)\n",
    "print()\n",
    "for r in sorted(model.reactions, key=lambda x: x.id):\n",
    "    if any(m.id.endswith('_c') for m in r.reactants) and any(m.id.endswith('_e') for m in r.products):\n",
    "        print(r)        "
   ]
  },
  {
   "cell_type": "code",
   "execution_count": 9,
   "metadata": {},
   "outputs": [],
   "source": [
    "# Remove boundary metabolites\n",
    "model.remove_metabolites([m for m in model.metabolites if m.id.endswith('_b')])"
   ]
  },
  {
   "cell_type": "code",
   "execution_count": 10,
   "metadata": {},
   "outputs": [
    {
     "data": {
      "text/plain": [
       "{'SRC_C00001_e': 1000.0,\n",
       " 'SRC_C00007_e': 1000.0,\n",
       " 'SRC_C00009_e': 1000.0,\n",
       " 'SRC_C00010_e': 1000.0,\n",
       " 'SRC_C00014_e': 1000.0,\n",
       " 'SRC_C00034_e': 1000.0,\n",
       " 'SRC_C00038_e': 1000.0,\n",
       " 'SRC_C00042_c': 1000.0,\n",
       " 'SRC_C00051_e': 1000.0,\n",
       " 'SRC_C00059_e': 1000.0,\n",
       " 'SRC_C00061_e': 1000.0,\n",
       " 'SRC_C00070_e': 1000.0,\n",
       " 'SRC_C00073_e': 1000.0,\n",
       " 'SRC_C00076_e': 1000.0,\n",
       " 'SRC_C00078_e': 1000.0,\n",
       " 'SRC_C00079_e': 1000.0,\n",
       " 'SRC_C00080_c': 1000.0,\n",
       " 'SRC_C00082_e': 1000.0,\n",
       " 'SRC_C00123_e': 1000.0,\n",
       " 'SRC_C00135_e': 1000.0,\n",
       " 'SRC_C00149_c': 1000.0,\n",
       " 'SRC_C00175_c': 1000.0,\n",
       " 'SRC_C00183_e': 1000.0,\n",
       " 'SRC_C00185_e': 1000.0,\n",
       " 'SRC_C00238_e': 1000.0,\n",
       " 'SRC_C00253_e': 1000.0,\n",
       " 'SRC_C00286_c': 1000.0,\n",
       " 'SRC_C00305_e': 1000.0,\n",
       " 'SRC_C00407_e': 1000.0,\n",
       " 'SRC_C00458_c': 1000.0,\n",
       " 'SRC_C00698_e': 1000.0,\n",
       " 'SRC_C00716_c': 1000.0,\n",
       " 'SRC_C01352_c': 1000.0,\n",
       " 'SRC_C03187_c': 1000.0,\n",
       " 'SRC_C14819_e': 1000.0,\n",
       " 'SRC_C15542_c': 1000.0}"
      ]
     },
     "execution_count": 10,
     "metadata": {},
     "output_type": "execute_result"
    }
   ],
   "source": [
    "model.medium"
   ]
  },
  {
   "cell_type": "code",
   "execution_count": 11,
   "metadata": {},
   "outputs": [],
   "source": [
    "model.solver = 'cplex'"
   ]
  },
  {
   "cell_type": "code",
   "execution_count": 12,
   "metadata": {},
   "outputs": [
    {
     "name": "stdout",
     "output_type": "stream",
     "text": [
      "49.99024019139233 optimal\n"
     ]
    }
   ],
   "source": [
    "sol = model.optimize()\n",
    "print(sol.objective_value, sol.status)"
   ]
  },
  {
   "cell_type": "code",
   "execution_count": 13,
   "metadata": {
    "scrolled": true
   },
   "outputs": [
    {
     "name": "stdout",
     "output_type": "stream",
     "text": [
      "SRC_C00001_e H2O\n",
      "SRC_C00007_e O2\n",
      "SRC_C00009_e Phosphate\n",
      "SRC_C00010_e CoA\n",
      "SRC_C00014_e NH3\n",
      "SRC_C00034_e Manganese\n",
      "SRC_C00038_e Zn2+\n",
      "SRC_C00042_c Succinate\n",
      "SRC_C00051_e GSH\n",
      "SRC_C00059_e Sulfate\n",
      "SRC_C00061_e FMN\n",
      "SRC_C00070_e Copper\n",
      "SRC_C00073_e L-Methionine\n",
      "SRC_C00076_e Ca2+\n",
      "SRC_C00078_e L-Tryptophan\n",
      "SRC_C00079_e L-Phenylalanine\n",
      "SRC_C00080_c H+\n",
      "SRC_C00082_e L-Tyrosine\n",
      "SRC_C00123_e L-Leucine\n",
      "SRC_C00135_e L-Histidine\n",
      "SRC_C00149_c L-Malate\n",
      "SRC_C00175_c Co2+\n",
      "SRC_C00183_e L-Valine\n",
      "SRC_C00185_e CELB\n",
      "SRC_C00238_e K+\n",
      "SRC_C00253_e Niacin\n",
      "SRC_C00286_c dGTP\n",
      "SRC_C00305_e Mg\n",
      "SRC_C00407_e L-Isoleucine\n",
      "SRC_C00458_c dCTP\n",
      "SRC_C00698_e Cl-\n",
      "SRC_C00716_c DL-Serine\n",
      "SRC_C01352_c FADH2\n",
      "SRC_C03187_c dTDP-6-deoxy-L-talose\n",
      "SRC_C14819_e Fe+3\n",
      "SRC_C15542_c D-Mannosyl-1-phosphoundecaprenol\n"
     ]
    }
   ],
   "source": [
    "for r in sorted(model.reactions, key=lambda x: x.id):\n",
    "    if 'SRC'in r.id:\n",
    "        print(r.id, r.products[0].name)"
   ]
  },
  {
   "cell_type": "code",
   "execution_count": 14,
   "metadata": {
    "scrolled": true
   },
   "outputs": [
    {
     "name": "stdout",
     "output_type": "stream",
     "text": [
      "SRC_C00001_e H2O 49.99024019139233 optimal\n",
      "SRC_C00007_e O2 49.990240191392346 optimal\n",
      "SRC_C00009_e Phosphate 49.990240191392346 optimal\n",
      "SRC_C00010_e CoA 0.0 optimal\n",
      "SRC_C00014_e NH3 49.990240191392246 optimal\n",
      "SRC_C00034_e Manganese 0.0 optimal\n",
      "SRC_C00038_e Zn2+ 0.0 optimal\n",
      "SRC_C00042_c Succinate 49.990240191392274 optimal\n",
      "SRC_C00051_e GSH 49.990240191392274 optimal\n",
      "SRC_C00059_e Sulfate 0.0 optimal\n",
      "SRC_C00061_e FMN 0.0 optimal\n",
      "SRC_C00070_e Copper 0.0 optimal\n",
      "SRC_C00073_e L-Methionine 49.99024019139233 optimal\n",
      "SRC_C00076_e Ca2+ 0.0 optimal\n",
      "SRC_C00078_e L-Tryptophan 49.99024019139216 optimal\n",
      "SRC_C00079_e L-Phenylalanine 49.99024019139242 optimal\n",
      "SRC_C00080_c H+ 49.99024019139242 optimal\n",
      "SRC_C00082_e L-Tyrosine 49.9902401913924 optimal\n",
      "SRC_C00123_e L-Leucine 49.99024019139241 optimal\n",
      "SRC_C00135_e L-Histidine 0.0 optimal\n",
      "SRC_C00149_c L-Malate 49.99024019139239 optimal\n",
      "SRC_C00175_c Co2+ 0.0 optimal\n",
      "SRC_C00183_e L-Valine 49.99024019139239 optimal\n",
      "SRC_C00185_e CELB 49.99024019139239 optimal\n",
      "SRC_C00238_e K+ 0.0 optimal\n",
      "SRC_C00253_e Niacin 2.6974896591763996e-11 optimal\n",
      "SRC_C00286_c dGTP 0.0 optimal\n",
      "SRC_C00305_e Mg 0.0 optimal\n",
      "SRC_C00407_e L-Isoleucine 49.99024019139233 optimal\n",
      "SRC_C00458_c dCTP 0.0 optimal\n",
      "SRC_C00698_e Cl- 0.0 optimal\n",
      "SRC_C00716_c DL-Serine 0.0 optimal\n",
      "SRC_C01352_c FADH2 0.0 optimal\n",
      "SRC_C03187_c dTDP-6-deoxy-L-talose 0.0 optimal\n",
      "SRC_C14819_e Fe+3 0.0 optimal\n",
      "SRC_C15542_c D-Mannosyl-1-phosphoundecaprenol 0.0 optimal\n"
     ]
    }
   ],
   "source": [
    "# Remove SRC one by one and run FBA, collect ones that are not necessary\n",
    "temp = []\n",
    "with model:\n",
    "    for r in sorted(model.reactions, key=lambda x: x.id):\n",
    "        if 'SRC'in r.id:\n",
    "            r.upper_bound = 0.0\n",
    "            sol = model.optimize()\n",
    "            print(r.id, r.products[0].name, sol.objective_value, sol.status)\n",
    "            if sol.objective_value > 1e-6:\n",
    "                temp.append(r.id)\n",
    "            r.upper_bound = 1000.0"
   ]
  },
  {
   "cell_type": "code",
   "execution_count": 15,
   "metadata": {},
   "outputs": [
    {
     "name": "stdout",
     "output_type": "stream",
     "text": [
      "SRC_C00001_e H2O\n",
      "SRC_C00007_e O2\n",
      "SRC_C00009_e Phosphate\n",
      "SRC_C00014_e NH3\n",
      "SRC_C00042_c Succinate\n",
      "SRC_C00051_e GSH\n",
      "SRC_C00073_e L-Methionine\n",
      "SRC_C00078_e L-Tryptophan\n",
      "SRC_C00079_e L-Phenylalanine\n",
      "SRC_C00080_c H+\n",
      "SRC_C00082_e L-Tyrosine\n",
      "SRC_C00123_e L-Leucine\n",
      "SRC_C00149_c L-Malate\n",
      "SRC_C00183_e L-Valine\n",
      "SRC_C00185_e CELB\n",
      "SRC_C00407_e L-Isoleucine\n"
     ]
    }
   ],
   "source": [
    "for x in temp:\n",
    "    print(x, model.reactions.get_by_id(x).products[0].name)"
   ]
  },
  {
   "cell_type": "code",
   "execution_count": 16,
   "metadata": {},
   "outputs": [],
   "source": [
    "# Constrain carbon SRC reactions to zero \n",
    "for x in ['SRC_C00042_c','SRC_C00073_e','SRC_C00078_e','SRC_C00079_e','SRC_C00082_e','SRC_C00123_e','SRC_C00149_c','SRC_C00183_e','SRC_C00185_e','SRC_C00407_e']:\n",
    "    model.reactions.get_by_id(x).upper_bound = 0.0"
   ]
  },
  {
   "cell_type": "code",
   "execution_count": 17,
   "metadata": {},
   "outputs": [
    {
     "name": "stdout",
     "output_type": "stream",
     "text": [
      "49.990240191392274 optimal\n",
      "\n",
      "IN FLUXES         OUT FLUXES        OBJECTIVES\n",
      "----------------  ----------------  ------------------\n",
      "C00009_e   1e+03  C00080_e   1e+03  biomass_target  50\n",
      "C00007_e  81.9    C00033_c  57.7\n",
      "C00014_e  73.8\n",
      "C00051_e  12.3\n",
      "C00716_c  10.5\n",
      "C00135_e   4.63\n",
      "C15542_c   4.62\n",
      "C00253_e   0.781\n",
      "C00010_e   0.781\n",
      "C14819_e   0.781\n",
      "C00286_c   0.587\n",
      "C00458_c   0.587\n",
      "C03187_c   0.587\n",
      "C00034_e   0.39\n",
      "C00038_e   0.39\n",
      "C00059_e   0.39\n",
      "C00061_e   0.39\n",
      "C00070_e   0.39\n",
      "C00076_e   0.39\n",
      "C00175_c   0.39\n",
      "C00238_e   0.39\n",
      "C00305_e   0.39\n",
      "C00698_e   0.39\n",
      "C01352_c   0.39\n"
     ]
    }
   ],
   "source": [
    "sol = model.optimize()\n",
    "print(sol.objective_value, sol.status)\n",
    "print()\n",
    "model.summary()"
   ]
  },
  {
   "cell_type": "code",
   "execution_count": 18,
   "metadata": {},
   "outputs": [],
   "source": [
    "# Constrain DL-Serine SRC reaction to zero\n",
    "for x in ['SRC_C00716_c']:\n",
    "    model.reactions.get_by_id(x).upper_bound = 0.0"
   ]
  },
  {
   "cell_type": "code",
   "execution_count": 19,
   "metadata": {
    "scrolled": true
   },
   "outputs": [
    {
     "name": "stdout",
     "output_type": "stream",
     "text": [
      "0.0 optimal\n",
      "\n",
      "IN FLUXES        OUT FLUXES       OBJECTIVES\n",
      "---------------  ---------------  -----------------\n",
      "C00009_e  1e+03  C00080_e  1e+03  biomass_target  0\n",
      "C00080_c  1e+03\n"
     ]
    }
   ],
   "source": [
    "sol = model.optimize()\n",
    "print(sol.objective_value, sol.status)\n",
    "print()\n",
    "model.summary()"
   ]
  },
  {
   "cell_type": "code",
   "execution_count": null,
   "metadata": {},
   "outputs": [],
   "source": []
  }
 ],
 "metadata": {
  "kernelspec": {
   "display_name": "JBEI-py3.6",
   "language": "python",
   "name": "jbei-py3.6"
  },
  "language_info": {
   "codemirror_mode": {
    "name": "ipython",
    "version": 3
   },
   "file_extension": ".py",
   "mimetype": "text/x-python",
   "name": "python",
   "nbconvert_exporter": "python",
   "pygments_lexer": "ipython3",
   "version": "3.6.3"
  }
 },
 "nbformat": 4,
 "nbformat_minor": 2
}
